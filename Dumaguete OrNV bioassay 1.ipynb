{
 "cells": [
  {
   "cell_type": "markdown",
   "metadata": {},
   "source": [
    "# Dumaguete OrNV Isolate - Bioassay 1\n",
    "\n",
    "## Introduction\n",
    "This notebook documents an initial bioassay of the Dumaguete isolate of *Oryctes* nudivirus. \n",
    "\n",
    "## Materials and Methods\n",
    "\n",
    "### Virus Sample\n",
    "This virus was isolated from a single infected *Oryctes rhinoceros* Guam biotype specimen collected near Dumaguete, Negros Island, Philippines in January 2017. \n",
    "\n",
    "### Test Insects\n",
    "Test insects were collected weekly from 31 coconut rhinoceros beetle pheromone traps (barrel traps) at the University of Guam Agricultural Experiment Station at Yigo. Beetles were held individually in numbered Mason jars partially filled with moist peat moss which were stored in an environmental cabinet at a temperature of 80 degrees F. Each was fed a slice of banana weekly.  Beetles were reared an average of 46 days (range: 23 d to 75 d) prior to treatment. \n",
    "\n",
    "### Treatment\n",
    "* 20 beetles were selected at random for treatment and another 20 were selected for experimental control\n",
    "* 100 mg of sucrose was disolved in a 1 ml sample of the virus. Each beetle was given a 40 microlitre dose of this solution by pipetting a drop onto its mouthparts. A placebo was not given to beetles in the experimental control group.\n",
    "* All beetles were provided a slice of banana on the day following treatment.\n",
    "\n",
    "### Observation procedure\n",
    "* Beetles were observed weekly.\n",
    "* Each beetle was weighed and its mass was entered immediately into a spreadsheet. \n",
    "* A slice of banana was added immediately after each beetle was returned to its jar.\n",
    "\n",
    "### Analysis\n",
    "* The data model includes 2 tables saved as Excel spreadsheets (see below).\n",
    "* An empty **mass** field in the **observations** table indicates that the beetle died prior to observation.\n",
    "\n",
    "## Results and Discussion\n",
    "* The beetles did not readily drink the 40 microlitre dose applied to their mouthparts. A food incorporation bioassay may be more efficient.\n",
    "* During the 28 day bioassay period, 1 of 20 virus treated beetles died and 4 of 20 beetles in the experimental control group died. The difference in mortality is not significant (p = 0.34; Fisher's exact test).  Post mortems indicated that all of the dead beetles were infected with *Metarhizium majus*. Guts looked normal.\n",
    "* There was a significant difference in weight loss during the first week of the bioassay (p = 0.02; Welch's t-test). However, there was no significant difference in weight loss during succeding weeks. Difference in weight loss during the first week may be due to the fact that the virus treated beetles were handled much more than the contol group. \n",
    "* In conclusion, results from this initial bioassay does not indicate pathogenicity to CRB-G for the OrNV Dumaguete isolate."
   ]
  },
  {
   "cell_type": "markdown",
   "metadata": {},
   "source": [
    "## Calculations"
   ]
  },
  {
   "cell_type": "code",
   "execution_count": 22,
   "metadata": {
    "collapsed": true
   },
   "outputs": [],
   "source": [
    "import pandas as pd\n",
    "import matplotlib.pyplot as plt\n",
    "import sqlite3\n",
    "import numpy as np\n",
    "from scipy.stats import ttest_ind, fisher_exact\n",
    "\n",
    "%matplotlib inline  \n",
    "pd.options.display.max_rows = 4"
   ]
  },
  {
   "cell_type": "markdown",
   "metadata": {},
   "source": [
    "### import data from spreadsheet"
   ]
  },
  {
   "cell_type": "code",
   "execution_count": 23,
   "metadata": {
    "collapsed": false
   },
   "outputs": [
    {
     "data": {
      "text/html": [
       "<div>\n",
       "<table border=\"1\" class=\"dataframe\">\n",
       "  <thead>\n",
       "    <tr style=\"text-align: right;\">\n",
       "      <th></th>\n",
       "      <th>jar_number</th>\n",
       "      <th>date_collected</th>\n",
       "      <th>sex</th>\n",
       "      <th>treatment</th>\n",
       "    </tr>\n",
       "  </thead>\n",
       "  <tbody>\n",
       "    <tr>\n",
       "      <th>0</th>\n",
       "      <td>32</td>\n",
       "      <td>2017-10-02</td>\n",
       "      <td>Female</td>\n",
       "      <td>virus</td>\n",
       "    </tr>\n",
       "    <tr>\n",
       "      <th>1</th>\n",
       "      <td>85</td>\n",
       "      <td>2017-10-02</td>\n",
       "      <td>Female</td>\n",
       "      <td>virus</td>\n",
       "    </tr>\n",
       "    <tr>\n",
       "      <th>...</th>\n",
       "      <td>...</td>\n",
       "      <td>...</td>\n",
       "      <td>...</td>\n",
       "      <td>...</td>\n",
       "    </tr>\n",
       "    <tr>\n",
       "      <th>38</th>\n",
       "      <td>1263</td>\n",
       "      <td>2017-10-18</td>\n",
       "      <td>Male</td>\n",
       "      <td>control</td>\n",
       "    </tr>\n",
       "    <tr>\n",
       "      <th>39</th>\n",
       "      <td>1633</td>\n",
       "      <td>2017-10-23</td>\n",
       "      <td>Male</td>\n",
       "      <td>control</td>\n",
       "    </tr>\n",
       "  </tbody>\n",
       "</table>\n",
       "<p>40 rows × 4 columns</p>\n",
       "</div>"
      ],
      "text/plain": [
       "    jar_number date_collected     sex treatment\n",
       "0           32     2017-10-02  Female     virus\n",
       "1           85     2017-10-02  Female     virus\n",
       "..         ...            ...     ...       ...\n",
       "38        1263     2017-10-18    Male   control\n",
       "39        1633     2017-10-23    Male   control\n",
       "\n",
       "[40 rows x 4 columns]"
      ]
     },
     "execution_count": 23,
     "metadata": {},
     "output_type": "execute_result"
    }
   ],
   "source": [
    "DATAFILE = 'aubrey.xlsx'\n",
    "\n",
    "df_jars = pd.read_excel(DATAFILE, 'jars')\n",
    "df_jars"
   ]
  },
  {
   "cell_type": "code",
   "execution_count": 24,
   "metadata": {
    "collapsed": false
   },
   "outputs": [
    {
     "data": {
      "text/html": [
       "<div>\n",
       "<table border=\"1\" class=\"dataframe\">\n",
       "  <thead>\n",
       "    <tr style=\"text-align: right;\">\n",
       "      <th></th>\n",
       "      <th>jar_number</th>\n",
       "      <th>observation_date</th>\n",
       "      <th>mass</th>\n",
       "      <th>note</th>\n",
       "    </tr>\n",
       "  </thead>\n",
       "  <tbody>\n",
       "    <tr>\n",
       "      <th>0</th>\n",
       "      <td>32</td>\n",
       "      <td>2017-11-15</td>\n",
       "      <td>4487.0</td>\n",
       "      <td>NaN</td>\n",
       "    </tr>\n",
       "    <tr>\n",
       "      <th>1</th>\n",
       "      <td>50</td>\n",
       "      <td>2017-11-15</td>\n",
       "      <td>4136.0</td>\n",
       "      <td>mites</td>\n",
       "    </tr>\n",
       "    <tr>\n",
       "      <th>...</th>\n",
       "      <td>...</td>\n",
       "      <td>...</td>\n",
       "      <td>...</td>\n",
       "      <td>...</td>\n",
       "    </tr>\n",
       "    <tr>\n",
       "      <th>198</th>\n",
       "      <td>1263</td>\n",
       "      <td>2017-12-13</td>\n",
       "      <td>3036.0</td>\n",
       "      <td>NaN</td>\n",
       "    </tr>\n",
       "    <tr>\n",
       "      <th>199</th>\n",
       "      <td>1633</td>\n",
       "      <td>2017-12-13</td>\n",
       "      <td>3399.0</td>\n",
       "      <td>NaN</td>\n",
       "    </tr>\n",
       "  </tbody>\n",
       "</table>\n",
       "<p>200 rows × 4 columns</p>\n",
       "</div>"
      ],
      "text/plain": [
       "     jar_number observation_date    mass   note\n",
       "0            32       2017-11-15  4487.0    NaN\n",
       "1            50       2017-11-15  4136.0  mites\n",
       "..          ...              ...     ...    ...\n",
       "198        1263       2017-12-13  3036.0    NaN\n",
       "199        1633       2017-12-13  3399.0    NaN\n",
       "\n",
       "[200 rows x 4 columns]"
      ]
     },
     "execution_count": 24,
     "metadata": {},
     "output_type": "execute_result"
    }
   ],
   "source": [
    "df_observations = pd.read_excel(DATAFILE, 'observations')\n",
    "df_observations"
   ]
  },
  {
   "cell_type": "code",
   "execution_count": 25,
   "metadata": {
    "collapsed": false
   },
   "outputs": [],
   "source": [
    "# Create a dict containing pairs of dates.\n",
    "# The index is an observation date and the value is the previous observation date\n",
    "\n",
    "obs_dates = df_observations.observation_date.unique()\n",
    "prev_obs_date = dict(zip(obs_dates[1:], obs_dates))\n",
    "\n",
    "# Example usage:\n",
    "# y = df_observations.observation_date[100]\n",
    "# print y\n",
    "# prev_obs_date[y.to_datetime64()]"
   ]
  },
  {
   "cell_type": "code",
   "execution_count": 26,
   "metadata": {
    "collapsed": false
   },
   "outputs": [
    {
     "data": {
      "text/html": [
       "<div>\n",
       "<table border=\"1\" class=\"dataframe\">\n",
       "  <thead>\n",
       "    <tr style=\"text-align: right;\">\n",
       "      <th></th>\n",
       "      <th>jar_number</th>\n",
       "      <th>observation_date</th>\n",
       "      <th>mass</th>\n",
       "      <th>note</th>\n",
       "      <th>days_post_treatment</th>\n",
       "      <th>mass_change</th>\n",
       "    </tr>\n",
       "  </thead>\n",
       "  <tbody>\n",
       "    <tr>\n",
       "      <th>0</th>\n",
       "      <td>32</td>\n",
       "      <td>2017-11-15</td>\n",
       "      <td>4487.0</td>\n",
       "      <td>NaN</td>\n",
       "      <td>0.0</td>\n",
       "      <td>NaN</td>\n",
       "    </tr>\n",
       "    <tr>\n",
       "      <th>1</th>\n",
       "      <td>50</td>\n",
       "      <td>2017-11-15</td>\n",
       "      <td>4136.0</td>\n",
       "      <td>mites</td>\n",
       "      <td>0.0</td>\n",
       "      <td>NaN</td>\n",
       "    </tr>\n",
       "    <tr>\n",
       "      <th>...</th>\n",
       "      <td>...</td>\n",
       "      <td>...</td>\n",
       "      <td>...</td>\n",
       "      <td>...</td>\n",
       "      <td>...</td>\n",
       "      <td>...</td>\n",
       "    </tr>\n",
       "    <tr>\n",
       "      <th>198</th>\n",
       "      <td>1263</td>\n",
       "      <td>2017-12-13</td>\n",
       "      <td>3036.0</td>\n",
       "      <td>NaN</td>\n",
       "      <td>28.0</td>\n",
       "      <td>258.0</td>\n",
       "    </tr>\n",
       "    <tr>\n",
       "      <th>199</th>\n",
       "      <td>1633</td>\n",
       "      <td>2017-12-13</td>\n",
       "      <td>3399.0</td>\n",
       "      <td>NaN</td>\n",
       "      <td>28.0</td>\n",
       "      <td>-194.0</td>\n",
       "    </tr>\n",
       "  </tbody>\n",
       "</table>\n",
       "<p>200 rows × 6 columns</p>\n",
       "</div>"
      ],
      "text/plain": [
       "     jar_number observation_date    mass   note  days_post_treatment  \\\n",
       "0            32       2017-11-15  4487.0    NaN                  0.0   \n",
       "1            50       2017-11-15  4136.0  mites                  0.0   \n",
       "..          ...              ...     ...    ...                  ...   \n",
       "198        1263       2017-12-13  3036.0    NaN                 28.0   \n",
       "199        1633       2017-12-13  3399.0    NaN                 28.0   \n",
       "\n",
       "     mass_change  \n",
       "0            NaN  \n",
       "1            NaN  \n",
       "..           ...  \n",
       "198        258.0  \n",
       "199       -194.0  \n",
       "\n",
       "[200 rows x 6 columns]"
      ]
     },
     "execution_count": 26,
     "metadata": {},
     "output_type": "execute_result"
    }
   ],
   "source": [
    "# Add a new column \"days_post_treatment\" to \"df_observations\" and populate it\n",
    "\n",
    "treatment_date = df_observations.observation_date.min().to_datetime64() # Assumes all beetles treated on same date\n",
    "df_observations['days_post_treatment'] = np.nan\n",
    "\n",
    "for index, row in df_observations.iterrows():\n",
    "    try:\n",
    "        date = row.observation_date.to_datetime64()\n",
    "        if date == treatment_date:\n",
    "            days_post_treatment = 0\n",
    "        else:\n",
    "            days_post_treatment = date - treatment_date\n",
    "            # Convert from timedelta in nanoseconds to integer days\n",
    "            days_post_treatment = (days_post_treatment / np.timedelta64(1, 'D')).astype(int)\n",
    "    except:\n",
    "        continue\n",
    "    df_observations.loc[index, 'days_post_treatment'] = days_post_treatment\n",
    "\n",
    "# Add a new column \"mass_change\" to \"df_observations\" and populate it\n",
    "\n",
    "df_observations['mass_change'] = np.nan\n",
    "\n",
    "for index, row in df_observations.iterrows():\n",
    "    try:\n",
    "        date = row.observation_date.to_datetime64()\n",
    "        prev_date = prev_obs_date[date]\n",
    "        prev_mass = int(df_observations.loc[(df_observations.observation_date==prev_date) & \n",
    "            (df_observations.jar_number==row.jar_number), 'mass'])\n",
    "        mass_change = int(row.mass) - prev_mass        \n",
    "    except:\n",
    "        continue\n",
    "    df_observations.loc[index, 'mass_change'] = mass_change\n",
    "\n",
    "df_observations"
   ]
  },
  {
   "cell_type": "code",
   "execution_count": 27,
   "metadata": {
    "collapsed": false
   },
   "outputs": [
    {
     "data": {
      "text/html": [
       "<div>\n",
       "<table border=\"1\" class=\"dataframe\">\n",
       "  <thead>\n",
       "    <tr style=\"text-align: right;\">\n",
       "      <th></th>\n",
       "      <th>jar_number</th>\n",
       "      <th>observation_date</th>\n",
       "      <th>mass</th>\n",
       "      <th>note</th>\n",
       "      <th>days_post_treatment</th>\n",
       "      <th>mass_change</th>\n",
       "      <th>date_collected</th>\n",
       "      <th>sex</th>\n",
       "      <th>treatment</th>\n",
       "    </tr>\n",
       "  </thead>\n",
       "  <tbody>\n",
       "    <tr>\n",
       "      <th>0</th>\n",
       "      <td>32</td>\n",
       "      <td>2017-11-15</td>\n",
       "      <td>4487.0</td>\n",
       "      <td>NaN</td>\n",
       "      <td>0.0</td>\n",
       "      <td>NaN</td>\n",
       "      <td>2017-10-02</td>\n",
       "      <td>Female</td>\n",
       "      <td>virus</td>\n",
       "    </tr>\n",
       "    <tr>\n",
       "      <th>1</th>\n",
       "      <td>32</td>\n",
       "      <td>2017-11-22</td>\n",
       "      <td>3900.0</td>\n",
       "      <td>NaN</td>\n",
       "      <td>7.0</td>\n",
       "      <td>-587.0</td>\n",
       "      <td>2017-10-02</td>\n",
       "      <td>Female</td>\n",
       "      <td>virus</td>\n",
       "    </tr>\n",
       "    <tr>\n",
       "      <th>...</th>\n",
       "      <td>...</td>\n",
       "      <td>...</td>\n",
       "      <td>...</td>\n",
       "      <td>...</td>\n",
       "      <td>...</td>\n",
       "      <td>...</td>\n",
       "      <td>...</td>\n",
       "      <td>...</td>\n",
       "      <td>...</td>\n",
       "    </tr>\n",
       "    <tr>\n",
       "      <th>198</th>\n",
       "      <td>1633</td>\n",
       "      <td>2017-12-06</td>\n",
       "      <td>3593.0</td>\n",
       "      <td>NaN</td>\n",
       "      <td>21.0</td>\n",
       "      <td>447.0</td>\n",
       "      <td>2017-10-23</td>\n",
       "      <td>Male</td>\n",
       "      <td>control</td>\n",
       "    </tr>\n",
       "    <tr>\n",
       "      <th>199</th>\n",
       "      <td>1633</td>\n",
       "      <td>2017-12-13</td>\n",
       "      <td>3399.0</td>\n",
       "      <td>NaN</td>\n",
       "      <td>28.0</td>\n",
       "      <td>-194.0</td>\n",
       "      <td>2017-10-23</td>\n",
       "      <td>Male</td>\n",
       "      <td>control</td>\n",
       "    </tr>\n",
       "  </tbody>\n",
       "</table>\n",
       "<p>200 rows × 9 columns</p>\n",
       "</div>"
      ],
      "text/plain": [
       "     jar_number observation_date    mass note  days_post_treatment  \\\n",
       "0            32       2017-11-15  4487.0  NaN                  0.0   \n",
       "1            32       2017-11-22  3900.0  NaN                  7.0   \n",
       "..          ...              ...     ...  ...                  ...   \n",
       "198        1633       2017-12-06  3593.0  NaN                 21.0   \n",
       "199        1633       2017-12-13  3399.0  NaN                 28.0   \n",
       "\n",
       "     mass_change date_collected     sex treatment  \n",
       "0            NaN     2017-10-02  Female     virus  \n",
       "1         -587.0     2017-10-02  Female     virus  \n",
       "..           ...            ...     ...       ...  \n",
       "198        447.0     2017-10-23    Male   control  \n",
       "199       -194.0     2017-10-23    Male   control  \n",
       "\n",
       "[200 rows x 9 columns]"
      ]
     },
     "execution_count": 27,
     "metadata": {},
     "output_type": "execute_result"
    }
   ],
   "source": [
    "df = df_observations.merge(df_jars, on='jar_number')\n",
    "df"
   ]
  },
  {
   "cell_type": "code",
   "execution_count": 28,
   "metadata": {
    "collapsed": false
   },
   "outputs": [
    {
     "name": "stdout",
     "output_type": "stream",
     "text": [
      "observation \tcontrol \t\tvirus\n",
      "date \t\tmean mass change (mg) \tmean mass change (mg) \tp-value\n",
      "2017-11-22\t-163 (n=20)\t\t-298 (n=20)\t\t0.0195\n",
      "2017-11-29\t-107 (n=19)\t\t-70 (n=20)\t\t0.3216\n",
      "2017-12-06\t3 (n=18)\t\t-40 (n=20)\t\t0.4429\n",
      "2017-12-13\t-41 (n=16)\t\t-37 (n=19)\t\t0.9350\n"
     ]
    },
    {
     "data": {
      "image/png": "[encoded data removed]",
      "text/plain": [
       "<matplotlib.figure.Figure at 0x7f1354ce2a10>"
      ]
     },
     "metadata": {},
     "output_type": "display_data"
    }
   ],
   "source": [
    "fig = plt.figure(figsize=(6, 12))\n",
    "i = 0\n",
    "print 'observation \\tcontrol \\t\\tvirus'\n",
    "print 'date \\t\\tmean mass change (mg) \\tmean mass change (mg) \\tp-value'\n",
    "for date in prev_obs_date.keys():\n",
    "    i += 1\n",
    "    v = df.loc[(df.observation_date==date) & \n",
    "                            (df.treatment=='virus'), 'mass_change']\n",
    "    v = v[-np.isnan(v)]\n",
    "    c = df.loc[(df.observation_date==date) & \n",
    "                            (df.treatment=='control'), 'mass_change']\n",
    "    c = c[-np.isnan(c)]\n",
    "    \n",
    "    statistic, pvalue = ttest_ind(c, v, nan_policy='omit', equal_var=False)\n",
    "    print '{}\\t{:.0f} (n={})\\t\\t{:.0f} (n={})\\t\\t{:.4f}'.format(\n",
    "        str(date)[:10], np.mean(c), len(c), np.mean(v), len(v), pvalue)\n",
    "    ax = fig.add_subplot(4,1,i)\n",
    "    title = 'Observation date = ' + str(date)[:10]\n",
    "    ax.set_title(title)\n",
    "    ax.boxplot([c.values, v.values])\n",
    "    ax.set_xticklabels(['control', 'virus'])\n",
    "    ax.set_ylim([-1000, 500])\n",
    "plt.tight_layout()"
   ]
  },
  {
   "cell_type": "markdown",
   "metadata": {},
   "source": [
    "### Mortality"
   ]
  },
  {
   "cell_type": "code",
   "execution_count": 29,
   "metadata": {
    "collapsed": false
   },
   "outputs": [
    {
     "data": {
      "text/html": [
       "<div>\n",
       "<table border=\"1\" class=\"dataframe\">\n",
       "  <thead>\n",
       "    <tr style=\"text-align: right;\">\n",
       "      <th>treatment</th>\n",
       "      <th>control</th>\n",
       "      <th>virus</th>\n",
       "    </tr>\n",
       "    <tr>\n",
       "      <th>days_post_treatment</th>\n",
       "      <th></th>\n",
       "      <th></th>\n",
       "    </tr>\n",
       "  </thead>\n",
       "  <tbody>\n",
       "    <tr>\n",
       "      <th>0.0</th>\n",
       "      <td>20</td>\n",
       "      <td>20</td>\n",
       "    </tr>\n",
       "    <tr>\n",
       "      <th>7.0</th>\n",
       "      <td>20</td>\n",
       "      <td>20</td>\n",
       "    </tr>\n",
       "    <tr>\n",
       "      <th>...</th>\n",
       "      <td>...</td>\n",
       "      <td>...</td>\n",
       "    </tr>\n",
       "    <tr>\n",
       "      <th>21.0</th>\n",
       "      <td>18</td>\n",
       "      <td>20</td>\n",
       "    </tr>\n",
       "    <tr>\n",
       "      <th>28.0</th>\n",
       "      <td>16</td>\n",
       "      <td>19</td>\n",
       "    </tr>\n",
       "  </tbody>\n",
       "</table>\n",
       "<p>5 rows × 2 columns</p>\n",
       "</div>"
      ],
      "text/plain": [
       "treatment            control  virus\n",
       "days_post_treatment                \n",
       "0.0                       20     20\n",
       "7.0                       20     20\n",
       "...                      ...    ...\n",
       "21.0                      18     20\n",
       "28.0                      16     19\n",
       "\n",
       "[5 rows x 2 columns]"
      ]
     },
     "execution_count": 29,
     "metadata": {},
     "output_type": "execute_result"
    }
   ],
   "source": [
    "df_groupby = df.groupby(['days_post_treatment','treatment'])['mass'].count().unstack()\n",
    "df_groupby"
   ]
  },
  {
   "cell_type": "code",
   "execution_count": 34,
   "metadata": {
    "collapsed": false
   },
   "outputs": [
    {
     "data": {
      "image/png": "[encoded data removed]",
      "text/plain": [
       "<matplotlib.figure.Figure at 0x7f1354cd3e50>"
      ]
     },
     "metadata": {},
     "output_type": "display_data"
    }
   ],
   "source": [
    "myplot = df_groupby.plot()\n",
    "ylim = myplot.axes.get_ylim()\n",
    "myplot.axes.set_ylim(0, ylim[1])\n",
    "myplot.set_title('Survivorship');"
   ]
  },
  {
   "cell_type": "code",
   "execution_count": 31,
   "metadata": {
    "collapsed": false
   },
   "outputs": [
    {
     "name": "stdout",
     "output_type": "stream",
     "text": [
      "\talive\tdead\n",
      "control\t16\t4\n",
      "virus\t19\t1\n",
      "\n",
      "Fishers exact test p-value = 0.341649341649\n"
     ]
    }
   ],
   "source": [
    "c_total = df_groupby.control.max()\n",
    "c_alive = df_groupby.control.min()\n",
    "c_dead = c_total - c_alive\n",
    "v_total = df_groupby.virus.max()\n",
    "v_alive = df_groupby.virus.min()\n",
    "v_dead = v_total - v_alive\n",
    "print '{}\\t{}\\t{}'.format('', 'alive', 'dead')\n",
    "print '{}\\t{}\\t{}'.format('control', c_alive, c_dead)\n",
    "print '{}\\t{}\\t{}'.format('virus', v_alive, v_dead)\n",
    "print\n",
    "oddsratio, pvalue = fisher_exact([[c_alive, c_dead], [v_alive, v_dead]])\n",
    "print 'Fisher''s exact test p-value = {}'.format(pvalue)"
   ]
  },
  {
   "cell_type": "markdown",
   "metadata": {},
   "source": [
    "### Holding time prior to treatment"
   ]
  },
  {
   "cell_type": "code",
   "execution_count": 32,
   "metadata": {
    "collapsed": false
   },
   "outputs": [
    {
     "data": {
      "text/plain": [
       "count                         40\n",
       "mean            46 days 15:00:00\n",
       "std      18 days 08:07:05.397423\n",
       "min             23 days 00:00:00\n",
       "25%             33 days 00:00:00\n",
       "50%             44 days 00:00:00\n",
       "75%             57 days 00:00:00\n",
       "max             75 days 00:00:00\n",
       "dtype: object"
      ]
     },
     "execution_count": 32,
     "metadata": {},
     "output_type": "execute_result"
    }
   ],
   "source": [
    "# Calculate days held prior to treatment\n",
    "\n",
    "pd.options.display.max_rows=100\n",
    "df_temp = df[df.observation_date==treatment_date]\n",
    "(df_temp.observation_date - df_temp.date_collected).describe()"
   ]
  },
  {
   "cell_type": "code",
   "execution_count": null,
   "metadata": {
    "collapsed": true
   },
   "outputs": [],
   "source": []
  }
 ],
 "metadata": {
  "kernelspec": {
   "display_name": "Python 2",
   "language": "python",
   "name": "python2"
  },
  "language_info": {
   "codemirror_mode": {
    "name": "ipython",
    "version": 2
   },
   "file_extension": ".py",
   "mimetype": "text/x-python",
   "name": "python",
   "nbconvert_exporter": "python",
   "pygments_lexer": "ipython2",
   "version": "2.7.13"
  }
 },
 "nbformat": 4,
 "nbformat_minor": 0
}
